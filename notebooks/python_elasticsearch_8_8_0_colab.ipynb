{
  "cells": [
    {
      "cell_type": "code",
      "source": [
        "%%capture\n",
        "!pip install elasticsearch==8.8.0"
      ],
      "metadata": {
        "id": "xZmVmvoJDCNZ"
      },
      "execution_count": 1,
      "outputs": []
    },
    {
      "cell_type": "code",
      "source": [
        "%%bash\n",
        "\n",
        "rm -rf elasticsearch*\n",
        "wget -q https://artifacts.elastic.co/downloads/elasticsearch/elasticsearch-8.8.0-linux-x86_64.tar.gz\n",
        "tar -xzf elasticsearch-8.8.0-linux-x86_64.tar.gz\n",
        "sudo chown -R daemon:daemon elasticsearch-8.8.0/\n",
        "umount /sys/fs/cgroup\n",
        "apt install cgroup-tools"
      ],
      "metadata": {
        "colab": {
          "base_uri": "https://localhost:8080/"
        },
        "id": "OCOE8HdL5H4q",
        "outputId": "7371b3fa-314c-458b-ddd7-6f9818752f91"
      },
      "execution_count": 2,
      "outputs": [
        {
          "output_type": "stream",
          "name": "stdout",
          "text": [
            "Reading package lists...\n",
            "Building dependency tree...\n",
            "Reading state information...\n",
            "The following additional packages will be installed:\n",
            "  libcgroup1\n",
            "The following NEW packages will be installed:\n",
            "  cgroup-tools libcgroup1\n",
            "0 upgraded, 2 newly installed, 0 to remove and 38 not upgraded.\n",
            "Need to get 109 kB of archives.\n",
            "After this operation, 472 kB of additional disk space will be used.\n",
            "Get:1 http://archive.ubuntu.com/ubuntu focal/universe amd64 libcgroup1 amd64 0.41-10 [42.9 kB]\n",
            "Get:2 http://archive.ubuntu.com/ubuntu focal/universe amd64 cgroup-tools amd64 0.41-10 [66.2 kB]\n",
            "Fetched 109 kB in 0s (624 kB/s)\n",
            "Selecting previously unselected package libcgroup1:amd64.\r\n",
            "(Reading database ... \r(Reading database ... 5%\r(Reading database ... 10%\r(Reading database ... 15%\r(Reading database ... 20%\r(Reading database ... 25%\r(Reading database ... 30%\r(Reading database ... 35%\r(Reading database ... 40%\r(Reading database ... 45%\r(Reading database ... 50%\r(Reading database ... 55%\r(Reading database ... 60%\r(Reading database ... 65%\r(Reading database ... 70%\r(Reading database ... 75%\r(Reading database ... 80%\r(Reading database ... 85%\r(Reading database ... 90%\r(Reading database ... 95%\r(Reading database ... 100%\r(Reading database ... 122541 files and directories currently installed.)\r\n",
            "Preparing to unpack .../libcgroup1_0.41-10_amd64.deb ...\r\n",
            "Unpacking libcgroup1:amd64 (0.41-10) ...\r\n",
            "Selecting previously unselected package cgroup-tools.\r\n",
            "Preparing to unpack .../cgroup-tools_0.41-10_amd64.deb ...\r\n",
            "Unpacking cgroup-tools (0.41-10) ...\r\n",
            "Setting up libcgroup1:amd64 (0.41-10) ...\r\n",
            "Setting up cgroup-tools (0.41-10) ...\r\n",
            "Processing triggers for libc-bin (2.31-0ubuntu9.9) ...\r\n",
            "Processing triggers for man-db (2.9.1-1) ...\r\n"
          ]
        },
        {
          "output_type": "stream",
          "name": "stderr",
          "text": [
            "\n",
            "WARNING: apt does not have a stable CLI interface. Use with caution in scripts.\n",
            "\n"
          ]
        }
      ]
    },
    {
      "cell_type": "code",
      "source": [
        "try:\n",
        "    import os\n",
        "    import elasticsearch\n",
        "    from elasticsearch import Elasticsearch\n",
        "    import numpy as np\n",
        "    import pandas as pd\n",
        "    import sys\n",
        "    import json\n",
        "    from ast import literal_eval\n",
        "    from tqdm import tqdm \n",
        "    import datetime\n",
        "    from elasticsearch import helpers\n",
        "  \n",
        "except Exception as e:\n",
        "    print(f\"error: {e}\")    "
      ],
      "metadata": {
        "id": "_pZVyOi97QH8"
      },
      "execution_count": 4,
      "outputs": []
    },
    {
      "cell_type": "code",
      "source": [
        "%%bash --bg\n",
        "\n",
        "sudo -H -u daemon elasticsearch-8.8.0/bin/elasticsearch"
      ],
      "metadata": {
        "id": "Poob40p95H0L"
      },
      "execution_count": 5,
      "outputs": []
    },
    {
      "cell_type": "code",
      "source": [
        "# This part is important, since it takes a little amount of time for instance to load\n",
        "import time\n",
        "time.sleep(20)"
      ],
      "metadata": {
        "id": "nylisEvc_kBn"
      },
      "execution_count": 6,
      "outputs": []
    },
    {
      "cell_type": "code",
      "source": [
        "!ps -ef | grep elastic"
      ],
      "metadata": {
        "colab": {
          "base_uri": "https://localhost:8080/"
        },
        "id": "6S4wFE_q_lDG",
        "outputId": "54b4a6f8-6fcf-47a2-d14b-ff2edfdf2a32"
      },
      "execution_count": 7,
      "outputs": [
        {
          "output_type": "stream",
          "name": "stdout",
          "text": [
            "root        1734    1732  0 06:48 ?        00:00:00 sudo -H -u daemon elasticsearch-8.8.0/bin/elasticsearch\n",
            "daemon      1735    1734 45 06:48 ?        00:00:11 /content/elasticsearch-8.8.0/jdk/bin/java -Xms4m -Xmx64m -XX:+UseSerialGC -Dcli.name=server -Dcli.script=elasticsearch-8.8.0/bin/elasticsearch -Dcli.libs=lib/tools/server-cli -Des.path.home=/content/elasticsearch-8.8.0 -Des.path.conf=/content/elasticsearch-8.8.0/config -Des.distribution.type=tar -cp /content/elasticsearch-8.8.0/lib/*:/content/elasticsearch-8.8.0/lib/cli-launcher/* org.elasticsearch.launcher.CliToolLauncher\n",
            "daemon      1823    1735 99 06:48 ?        00:00:28 /content/elasticsearch-8.8.0/jdk/bin/java -Des.networkaddress.cache.ttl=60 -Des.networkaddress.cache.negative.ttl=10 -Djava.security.manager=allow -XX:+AlwaysPreTouch -Xss1m -Djava.awt.headless=true -Dfile.encoding=UTF-8 -Djna.nosys=true -XX:-OmitStackTraceInFastThrow -Dio.netty.noUnsafe=true -Dio.netty.noKeySetOptimization=true -Dio.netty.recycler.maxCapacityPerThread=0 -Dlog4j.shutdownHookEnabled=false -Dlog4j2.disable.jmx=true -Dlog4j2.formatMsgNoLookups=true -Djava.locale.providers=SPI,COMPAT --add-opens=java.base/java.io=org.elasticsearch.preallocate -XX:+UseG1GC -Djava.io.tmpdir=/tmp/elasticsearch-13531430390367523481 -XX:+HeapDumpOnOutOfMemoryError -XX:+ExitOnOutOfMemoryError -XX:HeapDumpPath=data -XX:ErrorFile=logs/hs_err_pid%p.log -Xlog:gc*,gc+age=trace,safepoint:file=logs/gc.log:utctime,level,pid,tags:filecount=32,filesize=64m -Xms6491m -Xmx6491m -XX:MaxDirectMemorySize=3403677696 -XX:G1HeapRegionSize=4m -XX:InitiatingHeapOccupancyPercent=30 -XX:G1ReservePercent=15 -Des.distribution.type=tar --module-path /content/elasticsearch-8.8.0/lib --add-modules=jdk.net --add-modules=org.elasticsearch.preallocate -m org.elasticsearch.server/org.elasticsearch.bootstrap.Elasticsearch\n",
            "daemon      1871    1823  0 06:48 ?        00:00:00 /content/elasticsearch-8.8.0/modules/x-pack-ml/platform/linux-x86_64/bin/controller\n",
            "root        1924     389  0 06:48 ?        00:00:00 /bin/bash -c ps -ef | grep elastic\n",
            "root        1926    1924  0 06:48 ?        00:00:00 grep elastic\n"
          ]
        }
      ]
    },
    {
      "cell_type": "code",
      "source": [
        "!/content/elasticsearch-8.8.0/bin/elasticsearch-setup-passwords auto -url \"https://localhost:9200\""
      ],
      "metadata": {
        "colab": {
          "base_uri": "https://localhost:8080/"
        },
        "id": "cxtQVnqxCv1P",
        "outputId": "a45558c7-2697-4f37-d1e3-560bea73329d"
      },
      "execution_count": 8,
      "outputs": [
        {
          "output_type": "stream",
          "name": "stdout",
          "text": [
            "******************************************************************************\n",
            "Note: The 'elasticsearch-setup-passwords' tool has been deprecated. This       command will be removed in a future release.\n",
            "******************************************************************************\n",
            "\n",
            "Initiating the setup of passwords for reserved users elastic,apm_system,kibana,kibana_system,logstash_system,beats_system,remote_monitoring_user.\n",
            "The passwords will be randomly generated and printed to the console.\n",
            "Please confirm that you would like to continue [y/N]y\n",
            "\n",
            "\n",
            "Changed password for user apm_system\n",
            "PASSWORD apm_system = 7H1LiHas7KFFJAgaAzP0\n",
            "\n",
            "Changed password for user kibana_system\n",
            "PASSWORD kibana_system = AHIKg9urTmCdY1zwQ29f\n",
            "\n",
            "Changed password for user kibana\n",
            "PASSWORD kibana = AHIKg9urTmCdY1zwQ29f\n",
            "\n",
            "Changed password for user logstash_system\n",
            "PASSWORD logstash_system = zf0oeamb7lfdjIejFQO3\n",
            "\n",
            "Changed password for user beats_system\n",
            "PASSWORD beats_system = KpUb1IAKV9lqDKUtDhVQ\n",
            "\n",
            "Changed password for user remote_monitoring_user\n",
            "PASSWORD remote_monitoring_user = F8ibaVyZNPulYAwhJsmt\n",
            "\n",
            "Changed password for user elastic\n",
            "PASSWORD elastic = DsWom9ixGWUM2R9kObKb\n",
            "\n"
          ]
        }
      ]
    },
    {
      "cell_type": "code",
      "source": [
        "!curl --cacert /content/elasticsearch-8.8.0/config/certs/http_ca.crt -u elastic -H 'Content-Type: application/json' -XGET https://localhost:9200/?pretty=true"
      ],
      "metadata": {
        "colab": {
          "base_uri": "https://localhost:8080/"
        },
        "id": "6pe4M9YeCxWI",
        "outputId": "1df90baa-ff9f-4134-c7f1-e07ca3d7fec5"
      },
      "execution_count": 9,
      "outputs": [
        {
          "output_type": "stream",
          "name": "stdout",
          "text": [
            "Enter host password for user 'elastic':\n",
            "{\n",
            "  \"name\" : \"8b7bfbccbe50\",\n",
            "  \"cluster_name\" : \"elasticsearch\",\n",
            "  \"cluster_uuid\" : \"g3UtfjQ9RFez1UqEXZxp0w\",\n",
            "  \"version\" : {\n",
            "    \"number\" : \"8.8.0\",\n",
            "    \"build_flavor\" : \"default\",\n",
            "    \"build_type\" : \"tar\",\n",
            "    \"build_hash\" : \"c01029875a091076ed42cdb3a41c10b1a9a5a20f\",\n",
            "    \"build_date\" : \"2023-05-23T17:16:07.179039820Z\",\n",
            "    \"build_snapshot\" : false,\n",
            "    \"lucene_version\" : \"9.6.0\",\n",
            "    \"minimum_wire_compatibility_version\" : \"7.17.0\",\n",
            "    \"minimum_index_compatibility_version\" : \"7.0.0\"\n",
            "  },\n",
            "  \"tagline\" : \"You Know, for Search\"\n",
            "}\n"
          ]
        }
      ]
    },
    {
      "cell_type": "code",
      "source": [
        "username = 'elastic'\n",
        "\n",
        "password = 'DsWom9ixGWUM2R9kObKb'\n",
        "\n",
        "es = Elasticsearch(['https://localhost:9200'], basic_auth=(username, password), ca_certs=\"/content/elasticsearch-8.8.0/config/certs/http_ca.crt\")\n",
        "\n",
        "resp = dict(es.info())\n",
        "\n",
        "resp"
      ],
      "metadata": {
        "colab": {
          "base_uri": "https://localhost:8080/"
        },
        "id": "c4nJNC0nCbKJ",
        "outputId": "7c2d57b4-d412-403c-a49a-c0708d8292f7"
      },
      "execution_count": 10,
      "outputs": [
        {
          "output_type": "execute_result",
          "data": {
            "text/plain": [
              "{'name': '8b7bfbccbe50',\n",
              " 'cluster_name': 'elasticsearch',\n",
              " 'cluster_uuid': 'g3UtfjQ9RFez1UqEXZxp0w',\n",
              " 'version': {'number': '8.8.0',\n",
              "  'build_flavor': 'default',\n",
              "  'build_type': 'tar',\n",
              "  'build_hash': 'c01029875a091076ed42cdb3a41c10b1a9a5a20f',\n",
              "  'build_date': '2023-05-23T17:16:07.179039820Z',\n",
              "  'build_snapshot': False,\n",
              "  'lucene_version': '9.6.0',\n",
              "  'minimum_wire_compatibility_version': '7.17.0',\n",
              "  'minimum_index_compatibility_version': '7.0.0'},\n",
              " 'tagline': 'You Know, for Search'}"
            ]
          },
          "metadata": {},
          "execution_count": 10
        }
      ]
    },
    {
      "cell_type": "code",
      "source": [],
      "metadata": {
        "id": "SysNv2gV9SQK"
      },
      "execution_count": null,
      "outputs": []
    }
  ],
  "metadata": {
    "colab": {
      "provenance": []
    },
    "kernelspec": {
      "display_name": "Python 3",
      "language": "python",
      "name": "python3"
    },
    "language_info": {
      "codemirror_mode": {
        "name": "ipython",
        "version": 3
      },
      "file_extension": ".py",
      "mimetype": "text/x-python",
      "name": "python",
      "nbconvert_exporter": "python",
      "pygments_lexer": "ipython3",
      "version": "3.8.5"
    }
  },
  "nbformat": 4,
  "nbformat_minor": 0
}